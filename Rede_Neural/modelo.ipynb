{
 "cells": [
  {
   "cell_type": "markdown",
   "metadata": {},
   "source": [
    "# Modelo de inteligência artificial para reconhecimento de escoamento"
   ]
  },
  {
   "cell_type": "markdown",
   "metadata": {},
   "source": [
    "## 1. Carregar os dados"
   ]
  },
  {
   "cell_type": "code",
   "execution_count": 10,
   "metadata": {},
   "outputs": [],
   "source": [
    "import numpy as np \n",
    "import cv2\n",
    "import os"
   ]
  },
  {
   "cell_type": "code",
   "execution_count": 11,
   "metadata": {},
   "outputs": [
    {
     "name": "stdout",
     "output_type": "stream",
     "text": [
      "2 Labels criadas: ['com_chapeu', 'sem_chapeu']\n"
     ]
    }
   ],
   "source": [
    "PastaPrincipal = '../Dados'\n",
    "PastasSecundarias = os.listdir(PastaPrincipal)\n",
    "num__classes = len(PastasSecundarias)\n",
    "print(f'{num__classes} Labels criadas: {PastasSecundarias}')\n"
   ]
  },
  {
   "cell_type": "markdown",
   "metadata": {},
   "source": [
    "## 2. Atribuindo cada labels para cada imagem"
   ]
  },
  {
   "cell_type": "code",
   "execution_count": 14,
   "metadata": {},
   "outputs": [
    {
     "name": "stdout",
     "output_type": "stream",
     "text": [
      "Importando as labels ...\n",
      "com_chapeu sem_chapeu "
     ]
    }
   ],
   "source": [
    "imagens = []\n",
    "labels = []\n",
    "print('Importando as labels ...')\n",
    "for label in PastasSecundarias:\n",
    "    lista__de_imagens = os.listdir(PastaPrincipal + '/' + str(label))\n",
    "    for imagem in lista__de_imagens:\n",
    "        imagens_atual = cv2.imread(PastaPrincipal + '/' + str(label) + '/' + imagem)\n",
    "        imagens_atual = cv2.resize(imagens_atual,(32,32))\n",
    "        imagens.append(imagens_atual)\n",
    "        labels.append(label)\n",
    "    print(label, end=\" \")\n",
    "\n"
   ]
  },
  {
   "cell_type": "code",
   "execution_count": null,
   "metadata": {},
   "outputs": [],
   "source": [
    "print('Quantidade de imagens carregadas: ',len(imagens))"
   ]
  }
 ],
 "metadata": {
  "kernelspec": {
   "display_name": "Python 3.8.13 ('TCC')",
   "language": "python",
   "name": "python3"
  },
  "language_info": {
   "codemirror_mode": {
    "name": "ipython",
    "version": 3
   },
   "file_extension": ".py",
   "mimetype": "text/x-python",
   "name": "python",
   "nbconvert_exporter": "python",
   "pygments_lexer": "ipython3",
   "version": "3.8.13"
  },
  "orig_nbformat": 4,
  "vscode": {
   "interpreter": {
    "hash": "3b942b2e6ffd5f47c0b728ef5e9ba7ee53e9ec42430d52b97c3543c02cece985"
   }
  }
 },
 "nbformat": 4,
 "nbformat_minor": 2
}
