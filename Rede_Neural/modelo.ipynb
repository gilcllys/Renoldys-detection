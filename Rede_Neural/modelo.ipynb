{
 "cells": [
  {
   "cell_type": "markdown",
   "metadata": {},
   "source": [
    "# Modelo de inteligência artificial para reconhecimento de escoamento"
   ]
  },
  {
   "cell_type": "markdown",
   "metadata": {},
   "source": [
    "## 1. Carregar os dados"
   ]
  },
  {
   "cell_type": "code",
   "execution_count": 70,
   "metadata": {},
   "outputs": [],
   "source": [
    "import numpy as np \n",
    "import cv2\n",
    "import os"
   ]
  },
  {
   "cell_type": "code",
   "execution_count": 71,
   "metadata": {},
   "outputs": [
    {
     "name": "stdout",
     "output_type": "stream",
     "text": [
      "2 Labels criadas: ['com_chapeu', 'sem_chapeu']\n"
     ]
    }
   ],
   "source": [
    "PastaPrincipal = '../Dados'\n",
    "PastasSecundarias = os.listdir(PastaPrincipal)\n",
    "num__classes = len(PastasSecundarias)\n",
    "print(f'{num__classes} Labels criadas: {PastasSecundarias}')\n"
   ]
  },
  {
   "cell_type": "markdown",
   "metadata": {},
   "source": [
    "## 2. Atribuindo cada labels para cada imagem"
   ]
  },
  {
   "cell_type": "code",
   "execution_count": 72,
   "metadata": {},
   "outputs": [
    {
     "name": "stdout",
     "output_type": "stream",
     "text": [
      "Importando as labels ...\n",
      "com_chapeu sem_chapeu "
     ]
    }
   ],
   "source": [
    "imagens = []\n",
    "labels = []\n",
    "print('Importando as labels ...')\n",
    "for label in PastasSecundarias:\n",
    "    lista__de_imagens = os.listdir(PastaPrincipal + '/' + str(label))\n",
    "    for imagem in lista__de_imagens:\n",
    "        imagens_atual = cv2.imread(PastaPrincipal + '/' + str(label) + '/' + imagem)\n",
    "        imagens_atual = cv2.resize(imagens_atual,(32,32))\n",
    "        imagens.append(imagens_atual)\n",
    "        labels.append(label)\n",
    "    print(label, end=\" \")\n",
    "\n"
   ]
  },
  {
   "cell_type": "code",
   "execution_count": 73,
   "metadata": {},
   "outputs": [
    {
     "name": "stdout",
     "output_type": "stream",
     "text": [
      "Quantidade de imagens carregadas:  210\n",
      "Quantidade de etiquetas carregadas:  210\n"
     ]
    }
   ],
   "source": [
    "print('Quantidade de imagens carregadas: ',len(imagens))\n",
    "print('Quantidade de etiquetas carregadas: ',len(labels))\n"
   ]
  },
  {
   "cell_type": "markdown",
   "metadata": {},
   "source": [
    "# 3. Convertendo as imagens para o formator array"
   ]
  },
  {
   "cell_type": "code",
   "execution_count": 74,
   "metadata": {},
   "outputs": [
    {
     "name": "stdout",
     "output_type": "stream",
     "text": [
      "Medidas do vetor com todas as imagens reunidas:  (210, 32, 32, 3)\n",
      "Medidas do vetor com todas as etiquetas reunidas:  (210,)\n"
     ]
    }
   ],
   "source": [
    "imagens = np.array(imagens)\n",
    "labels = np.array(labels)\n",
    "print('Medidas do vetor com todas as imagens reunidas: ',imagens.shape)\n",
    "#Medidas do vetor com todas as imagens reunidas:  (210, 32, 32, 3)\n",
    "# total de imagens = 210 \n",
    "#tamanho de cada imagem = 32, 32 \n",
    "# 3 significa a quantidade de canais de cores , nesse caso são 3 R,G e B\n",
    "print('Medidas do vetor com todas as etiquetas reunidas: ',labels.shape)\n",
    "#Medida do vetor com todas as etiquetas reunidas:  (210,)"
   ]
  },
  {
   "cell_type": "markdown",
   "metadata": {},
   "source": [
    "# 4. Separação dos dados (treino, teste e validação)"
   ]
  },
  {
   "cell_type": "code",
   "execution_count": 75,
   "metadata": {},
   "outputs": [],
   "source": [
    "from sklearn.model_selection import train_test_split"
   ]
  },
  {
   "cell_type": "code",
   "execution_count": 76,
   "metadata": {},
   "outputs": [
    {
     "name": "stdout",
     "output_type": "stream",
     "text": [
      "Vetor com todos os dados de treino:  (134, 32, 32, 3)  corresponde a 80 porcento de todo o dado bruto\n",
      "Vetor com todos os dados de teste:  (42, 32, 32, 3)  corresponde a 20 porcento de todo o dado bruto\n",
      "Vetor com todos os dados de validação:  (34, 32, 32, 3)  corresponde a 20 porcento de todo o dado de treino\n"
     ]
    }
   ],
   "source": [
    "tamanho_do_teste = 0.2\n",
    "tamanho_da_validacao = 0.2\n",
    "X_treino,X_teste,y_treino,y_teste = train_test_split(imagens,labels,test_size= tamanho_do_teste)\n",
    "X_treino, X_validacao, y_treino, y_validacao = train_test_split(X_treino,y_treino,test_size= tamanho_da_validacao)\n",
    "\n",
    "print('Vetor com todos os dados de treino: ',X_treino.shape, ' corresponde a 80 porcento de todo o dado bruto')\n",
    "\n",
    "print('Vetor com todos os dados de teste: ',X_teste.shape, ' corresponde a 20 porcento de todo o dado bruto')\n",
    "\n",
    "print('Vetor com todos os dados de validação: ',X_validacao.shape, ' corresponde a 20 porcento de todo o dado de treino')"
   ]
  },
  {
   "cell_type": "code",
   "execution_count": 77,
   "metadata": {},
   "outputs": [
    {
     "name": "stdout",
     "output_type": "stream",
     "text": [
      "[67, 67]\n"
     ]
    }
   ],
   "source": [
    "# Consigo localizar o index de Cada \"A\" dentro de toda a lista\n",
    "#print(np.where(y_treino=='sem_chapeu'))\n",
    "index_das_amostras = []\n",
    "for x in PastasSecundarias:\n",
    "    index_das_amostras.append(len(np.where(y_treino==str(x))[0]))\n",
    "print(index_das_amostras)"
   ]
  },
  {
   "cell_type": "markdown",
   "metadata": {},
   "source": [
    "# 5. Visualizando os dados"
   ]
  },
  {
   "cell_type": "code",
   "execution_count": 78,
   "metadata": {},
   "outputs": [],
   "source": [
    "import matplotlib.pyplot as plt"
   ]
  },
  {
   "cell_type": "code",
   "execution_count": 79,
   "metadata": {},
   "outputs": [
    {
     "data": {
      "image/png": "[encoded data removed]",
      "text/plain": [
       "<Figure size 1080x360 with 1 Axes>"
      ]
     },
     "metadata": {
      "needs_background": "light"
     },
     "output_type": "display_data"
    }
   ],
   "source": [
    "plt.figure(figsize=(15,5))\n",
    "plt.bar(PastasSecundarias,index_das_amostras)\n",
    "plt.title('Numero de imagens para cada etiqueta')\n",
    "plt.xlabel('Etiqueta')\n",
    "plt.ylabel('Número de imagens')\n",
    "plt.show()"
   ]
  },
  {
   "cell_type": "markdown",
   "metadata": {},
   "source": [
    "# 6. Pré processamento e tratamento das imagens"
   ]
  },
  {
   "cell_type": "code",
   "execution_count": 80,
   "metadata": {},
   "outputs": [
    {
     "name": "stdout",
     "output_type": "stream",
     "text": [
      "(134, 32, 32, 3)\n"
     ]
    }
   ],
   "source": [
    "print(X_treino.shape)\n",
    "def preProcessamento(img):\n",
    "    #colocando em escala cinza\n",
    "    img = cv2.cvtColor(img,cv2.COLOR_BGR2GRAY)\n",
    "    # equalizando as imagens\n",
    "    img = cv2.equalizeHist(img)\n",
    "    # normalizando as imagens\n",
    "    img = img /255\n",
    "    return img"
   ]
  },
  {
   "cell_type": "code",
   "execution_count": 81,
   "metadata": {},
   "outputs": [
    {
     "name": "stdout",
     "output_type": "stream",
     "text": [
      "Dados pós processamento\n",
      "Dados de treino: (134, 32, 32)\n",
      "Dados de teste:  (42, 32, 32)\n",
      "Dados de validação:  (34, 32, 32)\n"
     ]
    }
   ],
   "source": [
    "X_treino = np.array(list(map(preProcessamento, X_treino)))\n",
    "X_teste = np.array(list(map(preProcessamento, X_teste)))\n",
    "X_validacao = np.array(list(map(preProcessamento, X_validacao)))\n",
    "print('Dados pós processamento')\n",
    "print('Dados de treino:',X_treino.shape)\n",
    "print('Dados de teste: ',X_teste.shape)\n",
    "print('Dados de validação: ',X_validacao.shape)\n"
   ]
  }
 ],
 "metadata": {
  "kernelspec": {
   "display_name": "Python 3.8.13 ('TCC')",
   "language": "python",
   "name": "python3"
  },
  "language_info": {
   "codemirror_mode": {
    "name": "ipython",
    "version": 3
   },
   "file_extension": ".py",
   "mimetype": "text/x-python",
   "name": "python",
   "nbconvert_exporter": "python",
   "pygments_lexer": "ipython3",
   "version": "3.8.13"
  },
  "orig_nbformat": 4,
  "vscode": {
   "interpreter": {
    "hash": "3b942b2e6ffd5f47c0b728ef5e9ba7ee53e9ec42430d52b97c3543c02cece985"
   }
  }
 },
 "nbformat": 4,
 "nbformat_minor": 2
}
